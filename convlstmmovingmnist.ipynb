{
  "nbformat": 4,
  "nbformat_minor": 0,
  "metadata": {
    "colab": {
      "name": "Untitled23.ipynb",
      "provenance": [],
      "collapsed_sections": [],
      "toc_visible": true,
      "authorship_tag": "ABX9TyMa3cFoml+lJkPpBrp8yeQX",
      "include_colab_link": true
    },
    "kernelspec": {
      "name": "python3",
      "display_name": "Python 3"
    }
  },
  "cells": [
    {
      "cell_type": "markdown",
      "metadata": {
        "id": "view-in-github",
        "colab_type": "text"
      },
      "source": [
        "<a href=\"https://colab.research.google.com/github/zzzle96/PyTorch/blob/master/convlstmmovingmnist.ipynb\" target=\"_parent\"><img src=\"https://colab.research.google.com/assets/colab-badge.svg\" alt=\"Open In Colab\"/></a>"
      ]
    },
    {
      "cell_type": "code",
      "metadata": {
        "id": "Ex6vhG2zwP9K",
        "outputId": "df28521a-b237-4085-fd62-2612e22bcc31",
        "colab": {
          "base_uri": "https://localhost:8080/",
          "height": 139
        }
      },
      "source": [
        "!git clone https://github.com/jhhuang96/ConvLSTM-PyTorch"
      ],
      "execution_count": 1,
      "outputs": [
        {
          "output_type": "stream",
          "text": [
            "Cloning into 'ConvLSTM-PyTorch'...\n",
            "remote: Enumerating objects: 108, done.\u001b[K\n",
            "remote: Counting objects: 100% (108/108), done.\u001b[K\n",
            "remote: Compressing objects: 100% (88/88), done.\u001b[K\n",
            "remote: Total 108 (delta 52), reused 59 (delta 18), pack-reused 0\u001b[K\n",
            "Receiving objects: 100% (108/108), 9.50 MiB | 16.25 MiB/s, done.\n",
            "Resolving deltas: 100% (52/52), done.\n"
          ],
          "name": "stdout"
        }
      ]
    },
    {
      "cell_type": "code",
      "metadata": {
        "id": "m84lpH2HwohJ",
        "outputId": "7670e33a-0972-4c12-f457-ad968d0ba792",
        "colab": {
          "base_uri": "https://localhost:8080/",
          "height": 54
        }
      },
      "source": [
        "import sys\n",
        "sys.path.append('/content/ConvLSTM-PyTorch')\n",
        "print(sys.path)\n",
        "\n"
      ],
      "execution_count": 4,
      "outputs": [
        {
          "output_type": "stream",
          "text": [
            "['', '/env/python', '/usr/lib/python36.zip', '/usr/lib/python3.6', '/usr/lib/python3.6/lib-dynload', '/usr/local/lib/python3.6/dist-packages', '/usr/lib/python3/dist-packages', '/usr/local/lib/python3.6/dist-packages/IPython/extensions', '/root/.ipython', '/content/ConvLSTM-PyTorch']\n"
          ],
          "name": "stdout"
        }
      ]
    },
    {
      "cell_type": "code",
      "metadata": {
        "id": "kgUI9CqN0bNF",
        "outputId": "b1cdb2c1-7853-40c3-b37c-b1e64c9b6a6f",
        "colab": {
          "base_uri": "https://localhost:8080/",
          "height": 194
        }
      },
      "source": [
        "pip install tensorboardX"
      ],
      "execution_count": 9,
      "outputs": [
        {
          "output_type": "stream",
          "text": [
            "Collecting tensorboardX\n",
            "\u001b[?25l  Downloading https://files.pythonhosted.org/packages/af/0c/4f41bcd45db376e6fe5c619c01100e9b7531c55791b7244815bac6eac32c/tensorboardX-2.1-py2.py3-none-any.whl (308kB)\n",
            "\r\u001b[K     |█                               | 10kB 17.3MB/s eta 0:00:01\r\u001b[K     |██▏                             | 20kB 2.1MB/s eta 0:00:01\r\u001b[K     |███▏                            | 30kB 2.7MB/s eta 0:00:01\r\u001b[K     |████▎                           | 40kB 2.9MB/s eta 0:00:01\r\u001b[K     |█████▎                          | 51kB 2.5MB/s eta 0:00:01\r\u001b[K     |██████▍                         | 61kB 2.7MB/s eta 0:00:01\r\u001b[K     |███████▍                        | 71kB 2.9MB/s eta 0:00:01\r\u001b[K     |████████▌                       | 81kB 3.2MB/s eta 0:00:01\r\u001b[K     |█████████▌                      | 92kB 3.5MB/s eta 0:00:01\r\u001b[K     |██████████▋                     | 102kB 3.4MB/s eta 0:00:01\r\u001b[K     |███████████▊                    | 112kB 3.4MB/s eta 0:00:01\r\u001b[K     |████████████▊                   | 122kB 3.4MB/s eta 0:00:01\r\u001b[K     |█████████████▉                  | 133kB 3.4MB/s eta 0:00:01\r\u001b[K     |██████████████▉                 | 143kB 3.4MB/s eta 0:00:01\r\u001b[K     |████████████████                | 153kB 3.4MB/s eta 0:00:01\r\u001b[K     |█████████████████               | 163kB 3.4MB/s eta 0:00:01\r\u001b[K     |██████████████████              | 174kB 3.4MB/s eta 0:00:01\r\u001b[K     |███████████████████             | 184kB 3.4MB/s eta 0:00:01\r\u001b[K     |████████████████████▏           | 194kB 3.4MB/s eta 0:00:01\r\u001b[K     |█████████████████████▎          | 204kB 3.4MB/s eta 0:00:01\r\u001b[K     |██████████████████████▎         | 215kB 3.4MB/s eta 0:00:01\r\u001b[K     |███████████████████████▍        | 225kB 3.4MB/s eta 0:00:01\r\u001b[K     |████████████████████████▍       | 235kB 3.4MB/s eta 0:00:01\r\u001b[K     |█████████████████████████▌      | 245kB 3.4MB/s eta 0:00:01\r\u001b[K     |██████████████████████████▌     | 256kB 3.4MB/s eta 0:00:01\r\u001b[K     |███████████████████████████▋    | 266kB 3.4MB/s eta 0:00:01\r\u001b[K     |████████████████████████████▋   | 276kB 3.4MB/s eta 0:00:01\r\u001b[K     |█████████████████████████████▊  | 286kB 3.4MB/s eta 0:00:01\r\u001b[K     |██████████████████████████████▊ | 296kB 3.4MB/s eta 0:00:01\r\u001b[K     |███████████████████████████████▉| 307kB 3.4MB/s eta 0:00:01\r\u001b[K     |████████████████████████████████| 317kB 3.4MB/s \n",
            "\u001b[?25hRequirement already satisfied: numpy in /usr/local/lib/python3.6/dist-packages (from tensorboardX) (1.18.5)\n",
            "Requirement already satisfied: protobuf>=3.8.0 in /usr/local/lib/python3.6/dist-packages (from tensorboardX) (3.12.4)\n",
            "Requirement already satisfied: six in /usr/local/lib/python3.6/dist-packages (from tensorboardX) (1.15.0)\n",
            "Requirement already satisfied: setuptools in /usr/local/lib/python3.6/dist-packages (from protobuf>=3.8.0->tensorboardX) (50.3.0)\n",
            "Installing collected packages: tensorboardX\n",
            "Successfully installed tensorboardX-2.1\n"
          ],
          "name": "stdout"
        }
      ]
    },
    {
      "cell_type": "code",
      "metadata": {
        "id": "LI4udm8GyPSH",
        "outputId": "ceca9baf-46e1-4287-8ce4-6d1d4ef547c1",
        "colab": {
          "base_uri": "https://localhost:8080/",
          "height": 221
        }
      },
      "source": [
        "#!/usr/bin/env python\n",
        "# -*- encoding: utf-8 -*-\n",
        "'''\n",
        "@File    :   main.py\n",
        "@Time    :   2020/03/09\n",
        "@Author  :   jhhuang96\n",
        "@Mail    :   hjh096@126.com\n",
        "@Version :   1.0\n",
        "@Description:   \n",
        "'''\n",
        "\n",
        "import os\n",
        "os.environ[\"CUDA_VISIBLE_DEVICES\"] = \"0\"\n",
        "from encoder import Encoder\n",
        "from decoder import Decoder\n",
        "from model import ED\n",
        "from net_params import convlstm_encoder_params, convlstm_decoder_params, convgru_encoder_params, convgru_decoder_params\n",
        "from data.mm import MovingMNIST\n",
        "import torch\n",
        "from torch import nn\n",
        "from torch.optim import lr_scheduler\n",
        "import torch.optim as optim\n",
        "import sys\n",
        "from earlystopping import EarlyStopping\n",
        "from tqdm import tqdm\n",
        "import numpy as np\n",
        "from tensorboardX import SummaryWriter\n",
        "import argparse\n",
        "\n",
        "TIMESTAMP = \"2020-03-09T00-00-00\"                         \n",
        "parser = argparse.ArgumentParser()\n",
        "parser.add_argument('-clstm',\n",
        "                    '--convlstm',\n",
        "                    help='use convlstm as base cell',\n",
        "                    action='store_true')\n",
        "parser.add_argument('-cgru',\n",
        "                    '--convgru',\n",
        "                    help='use convgru as base cell',\n",
        "                    action='store_true')\n",
        "parser.add_argument('--batch_size',\n",
        "                    default=4,\n",
        "                    type=int,\n",
        "                    help='mini-batch size')\n",
        "parser.add_argument('-lr', default=1e-4, type=float, help='G learning rate')\n",
        "parser.add_argument('-frames_input',\n",
        "                    default=10,\n",
        "                    type=int,\n",
        "                    help='sum of input frames')\n",
        "parser.add_argument('-frames_output',\n",
        "                    default=10,\n",
        "                    type=int,\n",
        "                    help='sum of predict frames')\n",
        "parser.add_argument('-epochs', default=500, type=int, help='sum of epochs')\n",
        "args = parser.parse_args()\n",
        "\n",
        "random_seed = 1996\n",
        "np.random.seed(random_seed)\n",
        "torch.manual_seed(random_seed)\n",
        "if torch.cuda.device_count() > 1:\n",
        "    torch.cuda.manual_seed_all(random_seed)\n",
        "else:\n",
        "    torch.cuda.manual_seed(random_seed)\n",
        "torch.backends.cudnn.deterministic = True\n",
        "torch.backends.cudnn.benchmark = False\n",
        "\n",
        "save_dir = './save_model/' + TIMESTAMP\n",
        "\n",
        "trainFolder = MovingMNIST(is_train=True,\n",
        "                          root='data/',\n",
        "                          n_frames_input=args.frames_input,\n",
        "                          n_frames_output=args.frames_output,\n",
        "                          num_objects=[3])\n",
        "validFolder = MovingMNIST(is_train=False,\n",
        "                          root='data/',\n",
        "                          n_frames_input=args.frames_input,\n",
        "                          n_frames_output=args.frames_output,\n",
        "                          num_objects=[3])\n",
        "trainLoader = torch.utils.data.DataLoader(trainFolder,\n",
        "                                          batch_size=args.batch_size,\n",
        "                                          shuffle=False)\n",
        "validLoader = torch.utils.data.DataLoader(validFolder,\n",
        "                                          batch_size=args.batch_size,\n",
        "                                          shuffle=False)\n",
        "\n",
        "if args.convlstm:\n",
        "    encoder_params = convlstm_encoder_params\n",
        "    decoder_params = convlstm_decoder_params\n",
        "if args.convgru:\n",
        "    encoder_params = convgru_encoder_params\n",
        "    decoder_params = convgru_decoder_params\n",
        "else:\n",
        "    encoder_params = convgru_encoder_params\n",
        "    decoder_params = convgru_decoder_params\n",
        "\n",
        "\n",
        "def train():\n",
        "    '''\n",
        "    main function to run the training\n",
        "    '''\n",
        "    encoder = Encoder(encoder_params[0], encoder_params[1]).cuda()\n",
        "    decoder = Decoder(decoder_params[0], decoder_params[1]).cuda()\n",
        "    net = ED(encoder, decoder)\n",
        "    run_dir = './runs/' + TIMESTAMP\n",
        "    if not os.path.isdir(run_dir):\n",
        "        os.makedirs(run_dir)\n",
        "    tb = SummaryWriter(run_dir)\n",
        "    # initialize the early_stopping object\n",
        "    early_stopping = EarlyStopping(patience=20, verbose=True)\n",
        "    device = torch.device(\"cuda:0\" if torch.cuda.is_available() else \"cpu\")\n",
        "\n",
        "    if torch.cuda.device_count() > 1:\n",
        "        net = nn.DataParallel(net)\n",
        "    net.to(device)\n",
        "\n",
        "    if os.path.exists(os.path.join(save_dir, 'checkpoint.pth.tar')):\n",
        "        # load existing model\n",
        "        print('==> loading existing model')\n",
        "        model_info = torch.load(os.path.join(save_dir, 'checkpoin.pth.tar'))\n",
        "        net.load_state_dict(model_info['state_dict'])\n",
        "        optimizer = torch.optim.Adam(net.parameters())\n",
        "        optimizer.load_state_dict(model_info['optimizer'])\n",
        "        cur_epoch = model_info['epoch'] + 1\n",
        "    else:\n",
        "        if not os.path.isdir(save_dir):\n",
        "            os.makedirs(save_dir)\n",
        "        cur_epoch = 0\n",
        "    lossfunction = nn.MSELoss().cuda()\n",
        "    optimizer = optim.Adam(net.parameters(), lr=args.lr)\n",
        "    pla_lr_scheduler = lr_scheduler.ReduceLROnPlateau(optimizer,\n",
        "                                                      factor=0.5,\n",
        "                                                      patience=4,\n",
        "                                                      verbose=True)\n",
        "\n",
        "    # to track the training loss as the model trains\n",
        "    train_losses = []\n",
        "    # to track the validation loss as the model trains\n",
        "    valid_losses = []\n",
        "    # to track the average training loss per epoch as the model trains\n",
        "    avg_train_losses = []\n",
        "    # to track the average validation loss per epoch as the model trains\n",
        "    avg_valid_losses = []\n",
        "    # mini_val_loss = np.inf\n",
        "    for epoch in range(cur_epoch, args.epochs + 1):\n",
        "        ###################\n",
        "        # train the model #\n",
        "        ###################\n",
        "        t = tqdm(trainLoader, leave=False, total=len(trainLoader))\n",
        "        for i, (idx, targetVar, inputVar, _, _) in enumerate(t):\n",
        "            inputs = inputVar.to(device)  # B,S,C,H,W\n",
        "            label = targetVar.to(device)  # B,S,C,H,W\n",
        "            optimizer.zero_grad()\n",
        "            net.train()\n",
        "            pred = net(inputs)  # B,S,C,H,W\n",
        "            loss = lossfunction(pred, label)\n",
        "            loss_aver = loss.item() / args.batch_size\n",
        "            train_losses.append(loss_aver)\n",
        "            loss.backward()\n",
        "            torch.nn.utils.clip_grad_value_(net.parameters(), clip_value=10.0)\n",
        "            optimizer.step()\n",
        "            t.set_postfix({\n",
        "                'trainloss': '{:.6f}'.format(loss_aver),\n",
        "                'epoch': '{:02d}'.format(epoch)\n",
        "            })\n",
        "        tb.add_scalar('TrainLoss', loss_aver, epoch)\n",
        "        ######################\n",
        "        # validate the model #\n",
        "        ######################\n",
        "        with torch.no_grad():\n",
        "            net.eval()\n",
        "            t = tqdm(validLoader, leave=False, total=len(validLoader))\n",
        "            for i, (idx, targetVar, inputVar, _, _) in enumerate(t):\n",
        "                if i == 3000:\n",
        "                    break\n",
        "                inputs = inputVar.to(device)\n",
        "                label = targetVar.to(device)\n",
        "                pred = net(inputs)\n",
        "                loss = lossfunction(pred, label)\n",
        "                loss_aver = loss.item() / args.batch_size\n",
        "                # record validation loss\n",
        "                valid_losses.append(loss_aver)\n",
        "                #print (\"validloss: {:.6f},  epoch : {:02d}\".format(loss_aver,epoch),end = '\\r', flush=True)\n",
        "                t.set_postfix({\n",
        "                    'validloss': '{:.6f}'.format(loss_aver),\n",
        "                    'epoch': '{:02d}'.format(epoch)\n",
        "                })\n",
        "\n",
        "        tb.add_scalar('ValidLoss', loss_aver, epoch)\n",
        "        torch.cuda.empty_cache()\n",
        "        # print training/validation statistics\n",
        "        # calculate average loss over an epoch\n",
        "        train_loss = np.average(train_losses)\n",
        "        valid_loss = np.average(valid_losses)\n",
        "        avg_train_losses.append(train_loss)\n",
        "        avg_valid_losses.append(valid_loss)\n",
        "\n",
        "        epoch_len = len(str(args.epochs))\n",
        "\n",
        "        print_msg = (f'[{epoch:>{epoch_len}}/{args.epochs:>{epoch_len}}] ' +\n",
        "                     f'train_loss: {train_loss:.6f} ' +\n",
        "                     f'valid_loss: {valid_loss:.6f}')\n",
        "\n",
        "        print(print_msg)\n",
        "        # clear lists to track next epoch\n",
        "        train_losses = []\n",
        "        valid_losses = []\n",
        "        pla_lr_scheduler.step(valid_loss)  # lr_scheduler\n",
        "        model_dict = {\n",
        "            'epoch': epoch,\n",
        "            'state_dict': net.state_dict(),\n",
        "            'optimizer': optimizer.state_dict()\n",
        "        }\n",
        "        early_stopping(valid_loss.item(), model_dict, epoch, save_dir)\n",
        "        if early_stopping.early_stop:\n",
        "            print(\"Early stopping\")\n",
        "            break\n",
        "\n",
        "    with open(\"avg_train_losses.txt\", 'wt') as f:\n",
        "        for i in avg_train_losses:\n",
        "            print(i, file=f)\n",
        "\n",
        "    with open(\"avg_valid_losses.txt\", 'wt') as f:\n",
        "        for i in avg_valid_losses:\n",
        "            print(i, file=f)\n",
        "\n",
        "\n",
        "if __name__ == \"__main__\":\n",
        "    train()\n"
      ],
      "execution_count": 13,
      "outputs": [
        {
          "output_type": "stream",
          "text": [
            "usage: ipykernel_launcher.py [-h] [-clstm] [-cgru] [--batch_size BATCH_SIZE]\n",
            "                             [-lr LR] [-frames_input FRAMES_INPUT]\n",
            "                             [-frames_output FRAMES_OUTPUT] [-epochs EPOCHS]\n",
            "ipykernel_launcher.py: error: ambiguous option: -f could match -frames_input, -frames_output\n"
          ],
          "name": "stderr"
        },
        {
          "output_type": "error",
          "ename": "SystemExit",
          "evalue": "ignored",
          "traceback": [
            "An exception has occurred, use %tb to see the full traceback.\n",
            "\u001b[0;31mSystemExit\u001b[0m\u001b[0;31m:\u001b[0m 2\n"
          ]
        },
        {
          "output_type": "stream",
          "text": [
            "/usr/local/lib/python3.6/dist-packages/IPython/core/interactiveshell.py:2890: UserWarning: To exit: use 'exit', 'quit', or Ctrl-D.\n",
            "  warn(\"To exit: use 'exit', 'quit', or Ctrl-D.\", stacklevel=1)\n"
          ],
          "name": "stderr"
        }
      ]
    },
    {
      "cell_type": "code",
      "metadata": {
        "id": "slHsve22y1aY"
      },
      "source": [
        ""
      ],
      "execution_count": null,
      "outputs": []
    }
  ]
}