{
  "nbformat": 4,
  "nbformat_minor": 0,
  "metadata": {
    "colab": {
      "name": "Untitled17.ipynb",
      "provenance": [],
      "authorship_tag": "ABX9TyPzI80oNCp8psXZxk8FuSXS",
      "include_colab_link": true
    },
    "kernelspec": {
      "name": "python3",
      "display_name": "Python 3"
    }
  },
  "cells": [
    {
      "cell_type": "markdown",
      "metadata": {
        "id": "view-in-github",
        "colab_type": "text"
      },
      "source": [
        "<a href=\"https://colab.research.google.com/github/zzzle96/PyTorch/blob/master/convlstm%20basic.ipynb\" target=\"_parent\"><img src=\"https://colab.research.google.com/assets/colab-badge.svg\" alt=\"Open In Colab\"/></a>"
      ]
    },
    {
      "cell_type": "code",
      "metadata": {
        "id": "uQk3zvPd9AUX",
        "colab_type": "code",
        "colab": {}
      },
      "source": [
        "import torch\n",
        "import torch.nn as nn\n",
        "import torch.nn.functional as F\n",
        "\n",
        "class ConvLSTM(nn.Module):\n",
        "    def __init__(self, n_in, output_channel, class_num, in_ch):\n",
        "        super(ConvLSTM, self).__init__()\n",
        "        self.in_ch = in_ch\n",
        "        self.n_in   = n_in\n",
        "        self.out_ch = output_channel \n",
        "        self.rnn1 = Conv_LSTM(input_channel = self.in_ch, output_channel = self.out_ch)\n",
        "        self.ap = nn.AvgPool1d(32,32, padding=0)\n",
        "        self.fcl1 = nn.Linear(self.out_ch * self.n_in // 32, class_num, bias = False)\n",
        "        \n",
        "                \n",
        "    def forward(self, x, hidden):\n",
        "        h1 = hidden\n",
        "        x = x.reshape(-1, self.in_ch, self.n_in)\n",
        "        x, h1 = self.rnn1(x, h1)\n",
        "        x = F.relu(x)\n",
        "        x = self.ap(x)\n",
        "        x = x.view(-1, self.out_ch * self.n_in // 32)\n",
        "        x = self.fcl1(x)\n",
        "        hidden = h1\n",
        "                \n",
        "        return x, hidden\n",
        "\n",
        "class Conv_LSTM(nn.Module):\n",
        "    def __init__(self, input_channel, output_channel):\n",
        "        super(Conv_LSTM, self).__init__()\n",
        "        self.output_channel = output_channel\n",
        "        self.fcl_wxf = nn.Conv1d(input_channel,output_channel, 9, stride=1, bias = False, padding = 4)\n",
        "        self.fcl_wxi = nn.Conv1d(input_channel,output_channel, 9, stride=1, bias = False, padding = 4)\n",
        "        self.fcl_wxo = nn.Conv1d(input_channel,output_channel, 9, stride=1, bias = False, padding = 4)\n",
        "        self.fcl_wxg = nn.Conv1d(input_channel,output_channel, 9, stride=1, bias = False, padding = 4)\n",
        "        self.fcl_whf = nn.Conv1d(output_channel,output_channel, 9, stride=1, bias = False, padding = 4)\n",
        "        self.fcl_whi = nn.Conv1d(output_channel,output_channel, 9, stride=1, bias = False, padding = 4)\n",
        "        self.fcl_who = nn.Conv1d(output_channel,output_channel, 9, stride=1, bias = False, padding = 4)\n",
        "        self.fcl_whg = nn.Conv1d(output_channel,output_channel, 9, stride=1, bias = False, padding = 4)\n",
        "\n",
        "    def forward(self, input, hidden):\n",
        "        h_t_1, c_t_1 = hidden\n",
        "        f_t_i = (self.fcl_wxf(input) + self.fcl_whf(h_t_1))\n",
        "        i_t_i = (self.fcl_wxi(input) + self.fcl_whi(h_t_1))\n",
        "        g_t_i = (self.fcl_wxg(input) + self.fcl_whg(h_t_1))\n",
        "        o_t_i = (self.fcl_wxo(input) + self.fcl_who(h_t_1))\n",
        "\n",
        "        f_t = torch.sigmoid(f_t_i)\n",
        "        i_t = torch.sigmoid(i_t_i)\n",
        "        g_t = torch.tanh(g_t_i)\n",
        "        o_t = torch.sigmoid(o_t_i)\n",
        "                \n",
        "        c_t = f_t * c_t_1 + i_t * g_t\n",
        "        h_t = o_t * torch.tanh(c_t)\n",
        "        output = h_t\n",
        "        hidden = (h_t, c_t)\n",
        "        \n",
        "        return output, hidden\n",
        "        \n",
        "    def initHidden(self, batch_size, seg_size):\n",
        "        weight = next(self.parameters())\n",
        "        return (weight.new_zeros(batch_size, self.output_channel, seg_size),\n",
        "                weight.new_zeros(batch_size, self.output_channel, seg_size))  "
      ],
      "execution_count": null,
      "outputs": []
    }
  ]
}