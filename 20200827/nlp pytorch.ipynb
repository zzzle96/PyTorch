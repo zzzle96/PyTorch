{
  "nbformat": 4,
  "nbformat_minor": 0,
  "metadata": {
    "colab": {
      "name": "Untitled13.ipynb",
      "provenance": [],
      "authorship_tag": "ABX9TyOMPg3x1tHRVDtrJmUQeAhw",
      "include_colab_link": true
    },
    "kernelspec": {
      "name": "python3",
      "display_name": "Python 3"
    },
    "accelerator": "GPU"
  },
  "cells": [
    {
      "cell_type": "markdown",
      "metadata": {
        "id": "view-in-github",
        "colab_type": "text"
      },
      "source": [
        "<a href=\"https://colab.research.google.com/github/zzzle96/PyTorch/blob/master/20200827/nlp%20pytorch.ipynb\" target=\"_parent\"><img src=\"https://colab.research.google.com/assets/colab-badge.svg\" alt=\"Open In Colab\"/></a>"
      ]
    },
    {
      "cell_type": "code",
      "metadata": {
        "id": "OW8TWKfD4QRJ",
        "colab_type": "code",
        "colab": {}
      },
      "source": [
        "import torch\n",
        "from torchtext import data\n",
        "from torchtext import datasets\n",
        "import string\n",
        "import random\n",
        "import torch.nn as nn\n",
        "\n",
        "\n",
        "import matplotlib.pyplot as plt\n",
        "import matplotlib as mpl\n",
        "import matplotlib.font_manager as fm"
      ],
      "execution_count": 56,
      "outputs": []
    },
    {
      "cell_type": "code",
      "metadata": {
        "id": "eKB45BAJ6aLS",
        "colab_type": "code",
        "colab": {}
      },
      "source": [
        "TEXT = data.Field(pad_first = True, fix_length = 500)\n",
        "LABEL = data.LabelField(dtype = torch.float)\n",
        "\n",
        "train_data, test_data = datasets.IMDB.splits(TEXT,LABEL)"
      ],
      "execution_count": 57,
      "outputs": []
    },
    {
      "cell_type": "code",
      "metadata": {
        "id": "73ZbnMfx6qHP",
        "colab_type": "code",
        "colab": {
          "base_uri": "https://localhost:8080/",
          "height": 55
        },
        "outputId": "98cc38c4-5596-4850-8dc5-24cca38481a9"
      },
      "source": [
        " print(vars(train_data.examples[0]))"
      ],
      "execution_count": 58,
      "outputs": [
        {
          "output_type": "stream",
          "text": [
            "{'text': ['\"October', 'Sky\"', 'is', 'a', 'film', 'that', 'will', 'steal', 'your', 'heart,', 'fill', 'your', 'mind', 'with', 'vivid', 'imagery,', 'and', 'lift', 'your', 'spirit.', 'The', 'tale', 'of', 'Homer', 'Hickham', 'and', 'his', 'dream', 'of', 'creating', 'a', 'rocket', 'seem', 'so', 'simple', 'at', 'first,', 'especially', 'when', 'the', 'film', 'is', 'set', 'in', 'a', 'mining', 'town,', 'where', 'the', 'future', 'is', 'as', 'clear', 'cut', 'as', 'the', 'lumps', 'of', 'coal', 'in', 'the', 'mine.', 'But', 'Homer', 'cannot', 'follow', 'in', 'his', \"father's\", 'footsteps.', 'With', 'the', 'encouragement', 'of', 'Miss', 'Riley,(a', 'friendly', 'teacher),', 'members', 'of', 'his', \"father's\", 'staff,', 'and', 'his', 'friends,', 'Homer', 'attempts', 'to', 'make', 'his', 'dream', 'a', 'reality.<br', '/><br', '/>Yet', 'as', 'in', 'any', 'true', 'to', 'life', 'story,', 'there', 'are', 'many', 'stops', 'along', 'the', 'way.', 'Director', 'Joe', 'Johnston', 'lowers', 'us', 'into', 'the', 'coal', 'mines,', 'where', 'we', 'witness', 'the', 'chilling', 'plight', 'of', 'miners', 'stooped', 'beneath', 'a', 'ceiling', 'of', 'rock.', 'With', 'lit', 'helmets', 'and', 'bent', 'posture,', 'they', 'resembled', 'alien', 'insectoids', 'more', 'than', 'humans', 'in', 'the', 'darkness.', 'The', 'hacking', 'coughs', 'of', 'the', 'miners', 'and', 'the', 'blackened', 'faces', 'were', 'a', 'constant', 'reminder', 'of', 'the', 'danger', 'the', 'miners', 'faced', 'in', 'their', 'work.<br', '/><br', '/>Contrasting', 'the', 'mine', \"shaft's\", 'lugubrious', 'load', 'are', 'the', 'images', 'of', 'Homer', 'and', 'his', \"friend's\", 'rocket', 'launches.', 'Underneath', 'the', 'blue', 'bowl', 'of', 'sky,', 'rockets', 'are', 'placed', 'upon', 'a', 'pad', 'and', 'launched', 'into', 'the', 'stratosphere...And', 'nothing', 'can', 'match', 'the', 'scene', 'when', 'Homer', 'sees', 'Sputnik', 'for', 'the', 'first', 'time.<br', '/><br', '/>Yet', 'what', 'makes', 'the', 'film', 'so', 'endearing', 'is', 'the', 'relationship', 'between', 'the', 'characters.', \"Homer's\", 'father', 'is', 'a', 'classic', 'hardened', 'man...but', 'he', 'has', 'a', 'soft', 'side', 'as', 'well.', 'We', 'see', 'that', 'he', 'does', 'love', 'his', 'son,', 'despite', 'their', 'many', 'arguments.', 'The', 'love', 'and', 'support', 'of', 'Miss', 'Riley', 'is', 'evident', 'as', 'well.', 'Best', 'of', 'all,', 'the', 'film', 'is', 'uncomfortable.', 'It', \"doesn't\", 'tie', 'everything', 'up', 'in', 'a', 'nice', 'bow.', 'It', 'tears', 'at', 'you,', 'lifts', 'you', 'up.', 'It', 'keeps', 'an', 'air', 'of', 'reality,', 'which', 'is', 'important', 'in', 'a', 'film', 'like', 'this.<br', '/><br', '/>This', 'film', 'can', 'be', 'considered', 'a', 'complete', 'work.', 'At', 'first,', 'I', 'was', 'disappointed', 'that', 'the', 'film', 'did', 'not', 'continue', 'with', \"Homer's\", 'life.', 'I', \"didn't\", 'want', 'it', 'to', 'end.', 'Then', 'I', \"realized...that's\", 'what', 'a', 'good', 'film', 'does', 'to', 'a', 'person.', 'If', 'it', 'has', 'done', 'its', 'job,', 'you', \"won't\", 'want', 'it', 'to', 'end.', 'And', '\"October', 'Sky\"', 'accomplishes', 'just', 'that.'], 'label': 'pos'}\n"
          ],
          "name": "stdout"
        }
      ]
    },
    {
      "cell_type": "code",
      "metadata": {
        "id": "7rpPi28eGFxL",
        "colab_type": "code",
        "colab": {}
      },
      "source": [
        "for example in train_data.examples:\n",
        "  text = [x.lower() for x in vars(example)['text']]\n",
        "  text = [x.replace(\"<br\",\"\") for x in text]\n",
        "  text = [''.join(c for c in s if c not in string.punctuation) for s in text]\n",
        "  text = [s for s in text if s]\n",
        "  vars(example)['text'] = text\n",
        "\n",
        "for example in test_data.examples:\n",
        "  text = [x.lower() for x in vars(example)['text']]\n",
        "  text = [x.replace(\"<br\",\"\") for x in text]\n",
        "  text = [''.join(c for c in s if c not in string.punctuation) for s in text]\n",
        "  text = [s for s in text if s]\n",
        "  vars(example)['text'] = text"
      ],
      "execution_count": 59,
      "outputs": []
    },
    {
      "cell_type": "code",
      "metadata": {
        "id": "WFQ6cmhaH09f",
        "colab_type": "code",
        "colab": {}
      },
      "source": [
        "train_data, valid_data = train_data.split(random_state = random.seed(0), split_ratio = 0.8)"
      ],
      "execution_count": 60,
      "outputs": []
    },
    {
      "cell_type": "code",
      "metadata": {
        "id": "Hlt8tXdsJ3yY",
        "colab_type": "code",
        "colab": {}
      },
      "source": [
        ""
      ],
      "execution_count": 60,
      "outputs": []
    },
    {
      "cell_type": "code",
      "metadata": {
        "id": "a_wjM2VFJn6e",
        "colab_type": "code",
        "colab": {}
      },
      "source": [
        "TEXT.build_vocab(train_data,max_size = 50000)\n",
        "LABEL.build_vocab(train_data)"
      ],
      "execution_count": 61,
      "outputs": []
    },
    {
      "cell_type": "code",
      "metadata": {
        "id": "kNJw3mU4J0_b",
        "colab_type": "code",
        "colab": {}
      },
      "source": [
        "device = 'cuda' if torch.cuda.is_available() else 'cpu' \n",
        "torch.manual_seed(777)                                      \n",
        "if device =='cuda':\n",
        "    torch.cuda.manual_seed_all(777)"
      ],
      "execution_count": 62,
      "outputs": []
    },
    {
      "cell_type": "code",
      "metadata": {
        "id": "zBPSqsT3MUT6",
        "colab_type": "code",
        "colab": {}
      },
      "source": [
        "batch_size = 100\n",
        "\n",
        "train_iterator, valid_iterator, test_iterator = data.BucketIterator.splits(\n",
        "    (train_data,valid_data, test_data),\n",
        "    batch_size = batch_size,\n",
        "    device = device)\n"
      ],
      "execution_count": 63,
      "outputs": []
    },
    {
      "cell_type": "code",
      "metadata": {
        "id": "npT7GrnkM5Jl",
        "colab_type": "code",
        "colab": {}
      },
      "source": [
        "class Sentiment(nn.Module):\n",
        "  def __init__(self, vocab_size, embed_dim, hidden_dim, output_dim, n_layers,\n",
        "               dropout, method):\n",
        "    super().__init__()\n",
        "\n",
        "    self.method = method\n",
        "\n",
        "    self.embed = nn.Embedding(vocab_size, embed_dim)\n",
        "    self.lstm = nn.LSTM(embed_dim, hidden_dim, n_layers, dropout=dropout)\n",
        "    self.gru =  nn.GRU(embed_dim, hidden_dim, n_layers, dropout = dropout)\n",
        "    self.fc = nn.Linear(hidden_dim*n_layers, output_dim)\n",
        "    self.drop = nn.Dropout(dropout)\n",
        "\n",
        "  def forward(self,x):\n",
        "\n",
        "    emb = self.drop(self.embed(x))\n",
        "\n",
        "    if(self.method == 'LSTM'):\n",
        "      out, (h,c) = self.lstm(emb)\n",
        "      h = self.drop(torch.cat((h[-2,:,:],h[-1,:,:]),dim = 1))\n",
        "\n",
        "    if(self.method == 'GRU'):\n",
        "      out,h = self.gru(emb)\n",
        "      h = self.drop(torch.cat((h[-2,:,:],h[-1,:,:]),dim = 1))\n",
        "\n",
        "    return self.fc(h.squeeze(0))\n",
        "\n",
        "\n",
        "    "
      ],
      "execution_count": 64,
      "outputs": []
    },
    {
      "cell_type": "code",
      "metadata": {
        "id": "rWlkUhc9Pufh",
        "colab_type": "code",
        "colab": {}
      },
      "source": [
        "def binary_accuracy(preds,y):\n",
        "\n",
        "  rounded_preds = torch.round(torch.sigmoid(preds))\n",
        "  correct = (rounded_preds ==y).float()\n",
        "  acc = correct.sum()/len(correct)\n",
        "  return acc"
      ],
      "execution_count": 65,
      "outputs": []
    },
    {
      "cell_type": "code",
      "metadata": {
        "id": "o51lyZjCRXLr",
        "colab_type": "code",
        "colab": {}
      },
      "source": [
        "def train(model, iterator, optimizer, criterion):\n",
        "\n",
        "  epoch_loss = 0\n",
        "  epoch_acc = 0\n",
        "\n",
        "  model.train()\n",
        "\n",
        "  for batch in iterator:\n",
        "\n",
        "    optimizer.zero_grad()\n",
        "\n",
        "    predictions = model(batch.text).squeeze(1)\n",
        "    loss = criterion(predictions, batch.label)\n",
        "    acc = binary_accuracy(predictions, batch.label)\n",
        "\n",
        "    loss.backward()\n",
        "    optimizer.step()\n",
        "\n",
        "    epoch_loss += loss.item()\n",
        "    epoch_acc += acc.item()\n",
        "\n",
        "  return epoch_loss/len(iterator), epoch_acc/len(iterator)\n"
      ],
      "execution_count": 66,
      "outputs": []
    },
    {
      "cell_type": "code",
      "metadata": {
        "id": "Dw0pPlIGSEjM",
        "colab_type": "code",
        "colab": {}
      },
      "source": [
        "def evaluate(model, iterator, criterion):\n",
        "\n",
        "  epoch_loss = 0\n",
        "  epoch_acc = 0\n",
        "\n",
        "  model.eval()\n",
        "  with torch.no_grad():\n",
        "\n",
        "    for batch in iterator:\n",
        "\n",
        "      predictions = model(batch.text).squeeze(1)\n",
        "      loss = criterion(predictions, batch.label)\n",
        "      acc = binary_accuracy(predictions, batch.label)\n",
        "\n",
        "      epoch_loss += loss.item()\n",
        "      epoch_acc += acc.item()\n",
        "\n",
        "    return epoch_loss/ len(iterator), epoch_acc/len(iterator)\n",
        "    "
      ],
      "execution_count": 67,
      "outputs": []
    },
    {
      "cell_type": "code",
      "metadata": {
        "id": "_vH-8rvDTSGG",
        "colab_type": "code",
        "colab": {}
      },
      "source": [
        "input_dim = len(TEXT.vocab)\n",
        "embed_dim = 400\n",
        "hidden_dim = 256\n",
        "output_dim = 1\n",
        "n_layers = 2\n",
        "dropout = 0.5\n",
        "\n",
        "model = Sentiment(input_dim, embed_dim, hidden_dim, output_dim, n_layers, dropout, method = 'LSTM').to(device)\n",
        "optimizer = torch.optim.Adam(model.parameters())\n",
        "criterion = nn.BCEWithLogitsLoss().to(device)"
      ],
      "execution_count": 68,
      "outputs": []
    },
    {
      "cell_type": "code",
      "metadata": {
        "id": "dgjMJ7X4UITv",
        "colab_type": "code",
        "colab": {
          "base_uri": "https://localhost:8080/",
          "height": 35
        },
        "outputId": "4b861331-7724-477f-cc7a-ee7e7d811695"
      },
      "source": [
        "N_EPOCHS = 10\n",
        "epochss = []\n",
        "loss = []\n",
        "for epoch in range(N_EPOCHS):\n",
        "\n",
        "  train_loss, train_acc = train(model,train_iterator, optimizer, criterion)\n",
        "  valid_loss, valid_acc = evaluate(model,valid_iterator, criterion)\n",
        "\n",
        "  epochss.append(epoch+1)\n",
        "  loss.append(train_loss)\n",
        "\n",
        "  print('epoch: {:02}     train loss: {:.3f}   val loss: {:.3f} '\n",
        "        .format(epoch+1,train_loss, valid_loss))"
      ],
      "execution_count": null,
      "outputs": [
        {
          "output_type": "stream",
          "text": [
            "epoch: 01     train loss: 0.654   val loss: 0.564 \n"
          ],
          "name": "stdout"
        }
      ]
    },
    {
      "cell_type": "code",
      "metadata": {
        "id": "k2CNkvoDU6HB",
        "colab_type": "code",
        "colab": {
          "base_uri": "https://localhost:8080/",
          "height": 35
        },
        "outputId": "f6504198-b43c-4f64-e620-ef5116c73904"
      },
      "source": [
        "test_loss, test_acc = evaluate(model,test_iterator, criterion)\n",
        "print('Test Acc L {:.2f}%'.format(test_acc*100))"
      ],
      "execution_count": 49,
      "outputs": [
        {
          "output_type": "stream",
          "text": [
            "Test Acc L 85.38%\n"
          ],
          "name": "stdout"
        }
      ]
    },
    {
      "cell_type": "code",
      "metadata": {
        "id": "3k-M34g_bImI",
        "colab_type": "code",
        "colab": {
          "base_uri": "https://localhost:8080/",
          "height": 294
        },
        "outputId": "a2e15c69-063a-42c1-884c-17a3ec0bbff9"
      },
      "source": [
        "%matplotlib inline\n",
        "%config InlineBackend.figure_format = 'retina'\n",
        "  \n",
        "plt.plot(torch.Tensor([epochss]),torch.Tensor([loss]), 'b*-')\n",
        "\n",
        "plt.title('Loss Tracker')\n",
        "plt.xlabel('epochs')\n",
        "plt.ylabel('cost')\n",
        "plt.show()"
      ],
      "execution_count": 55,
      "outputs": [
        {
          "output_type": "display_data",
          "data": {
            "image/png": "[encoded data removed]",
            "text/plain": [
              "<Figure size 432x288 with 1 Axes>"
            ]
          },
          "metadata": {
            "tags": [],
            "image/png": {
              "width": 398,
              "height": 277
            },
            "needs_background": "light"
          }
        }
      ]
    },
    {
      "cell_type": "code",
      "metadata": {
        "id": "MRPrtTdrb2WZ",
        "colab_type": "code",
        "colab": {}
      },
      "source": [
        ""
      ],
      "execution_count": null,
      "outputs": []
    }
  ]
}